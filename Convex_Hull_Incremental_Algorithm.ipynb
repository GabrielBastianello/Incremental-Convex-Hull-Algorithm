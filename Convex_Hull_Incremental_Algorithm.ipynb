{
 "cells": [
  {
   "cell_type": "markdown",
   "id": "f1ba7da3",
   "metadata": {},
   "source": [
    "# Convex Hull - Incremental Algorithm\n",
    "## By Gabriel Bastianello Lima"
   ]
  },
  {
   "cell_type": "code",
   "execution_count": 1,
   "id": "c2cee3df",
   "metadata": {},
   "outputs": [],
   "source": [
    "import numpy as np\n",
    "from matplotlib import pyplot as plt"
   ]
  },
  {
   "cell_type": "raw",
   "id": "e82fe71a",
   "metadata": {},
   "source": [
    "The text in the .txt file to be read in this work is of the form:\n",
    "\n",
    "3\n",
    "0,0\n",
    "1,0\n",
    "0,1"
   ]
  },
  {
   "cell_type": "raw",
   "id": "2cf60e35",
   "metadata": {},
   "source": [
    "first line = one number indicating the number of points in the set;\n",
    "the rest of the lines = pairs of numbers indicating the x-coordinate and y-coordinate."
   ]
  },
  {
   "cell_type": "markdown",
   "id": "151a7bf2",
   "metadata": {},
   "source": [
    "## Generating random points"
   ]
  },
  {
   "cell_type": "markdown",
   "id": "dc2ef269",
   "metadata": {},
   "source": [
    "From this cell you can generate random points at each time you run the notebook and see how the convex hull behaves for different sets of points."
   ]
  },
  {
   "cell_type": "code",
   "execution_count": 2,
   "id": "3fe252d9",
   "metadata": {},
   "outputs": [],
   "source": [
    "from random import randrange\n",
    "\n",
    "def generator(n):\n",
    "    \n",
    "    ''' receives the number 'n' of points and creates\n",
    "    n random points in the 2-dimensional space'''\n",
    "    \n",
    "    points = []\n",
    "    for i in range(n):\n",
    "        p = (randrange(0, 50), randrange(0, 50))\n",
    "        points.append(p)\n",
    "    return points\n",
    "\n",
    "points = generator(randrange(0, 100))\n",
    "\n",
    "file = open('file.txt', 'w')\n",
    "\n",
    "file.write(f'{len(points)} \\n')\n",
    "\n",
    "for point in points:\n",
    "    file.write(f'{point[0]},{point[1]} \\n')\n",
    "\n",
    "file.close()"
   ]
  },
  {
   "cell_type": "markdown",
   "id": "cb64379c",
   "metadata": {},
   "source": [
    "## Reading the .txt"
   ]
  },
  {
   "cell_type": "code",
   "execution_count": 3,
   "id": "65d8d9c0",
   "metadata": {},
   "outputs": [],
   "source": [
    "file = open('file.txt', 'r+')"
   ]
  },
  {
   "cell_type": "markdown",
   "id": "d6c70fd3",
   "metadata": {},
   "source": [
    "## Converting the txt file into useful data:"
   ]
  },
  {
   "cell_type": "code",
   "execution_count": 4,
   "id": "fc6b92cf",
   "metadata": {},
   "outputs": [],
   "source": [
    "formated_file = file.read().split(' \\n')"
   ]
  },
  {
   "cell_type": "code",
   "execution_count": 5,
   "id": "408993d1",
   "metadata": {
    "scrolled": true
   },
   "outputs": [],
   "source": [
    "def converts_file_to_coordinates(text):\n",
    "\n",
    "    '''\n",
    "    function that converts the text to an array of coordinates.\n",
    "    '''\n",
    "\n",
    "    number_of_points = int(text[0])\n",
    "\n",
    "    points = []\n",
    "    for line in text[1:]:\n",
    "\n",
    "        if line != '':\n",
    "            separated_string = line.split(',')\n",
    "            point = (float(separated_string[0]), float(separated_string[1]))\n",
    "            points.append(point)\n",
    "\n",
    "    return points\n",
    "\n",
    "coordinates = np.unique(converts_file_to_coordinates(formated_file), axis=0)\n",
    "# there's no need to sort the points. the np.unique command already does it."
   ]
  },
  {
   "cell_type": "code",
   "execution_count": 6,
   "id": "131a9d23",
   "metadata": {},
   "outputs": [],
   "source": [
    "file.close()"
   ]
  },
  {
   "cell_type": "code",
   "execution_count": 7,
   "id": "81038788",
   "metadata": {},
   "outputs": [
    {
     "data": {
      "text/plain": [
       "array([[ 5., 49.],\n",
       "       [11.,  6.],\n",
       "       [14., 30.],\n",
       "       [14., 36.],\n",
       "       [20., 45.],\n",
       "       [26., 32.],\n",
       "       [28., 48.],\n",
       "       [31., 21.],\n",
       "       [37., 16.],\n",
       "       [43., 47.],\n",
       "       [44., 16.],\n",
       "       [45., 26.]])"
      ]
     },
     "execution_count": 7,
     "metadata": {},
     "output_type": "execute_result"
    }
   ],
   "source": [
    "coordinates # let's see what the points look like"
   ]
  },
  {
   "cell_type": "code",
   "execution_count": 8,
   "id": "10404651",
   "metadata": {
    "scrolled": false
   },
   "outputs": [
    {
     "data": {
      "image/png": "[encoded data removed]",
      "text/plain": [
       "<Figure size 576x396 with 1 Axes>"
      ]
     },
     "metadata": {},
     "output_type": "display_data"
    }
   ],
   "source": [
    "plt.style.use('seaborn')\n",
    "\n",
    "xs = np.array([c[0] for c in coordinates])\n",
    "ys = np.array([c[1] for c in coordinates])\n",
    "\n",
    "plt.title('Visualization of the Data set')\n",
    "plt.plot(xs, ys, 'o')\n",
    "plt.xlabel('x')\n",
    "plt.ylabel('y');"
   ]
  },
  {
   "cell_type": "markdown",
   "id": "9b228008",
   "metadata": {},
   "source": [
    "## Calculating the convex hull"
   ]
  },
  {
   "cell_type": "code",
   "execution_count": 9,
   "id": "64bea36a",
   "metadata": {},
   "outputs": [],
   "source": [
    "def subroutine(hull, point):\n",
    "\n",
    "    bool0  = True\n",
    "    bool1 = False\n",
    "\n",
    "    for i in range(len(hull)):\n",
    "        v0 = hull[i] - hull[(i+1) % len(hull)] \n",
    "        v1 = point - hull[(i+1) % len(hull)] \n",
    "\n",
    "        if np.linalg.det([v1, v0]) <= 0: \n",
    "\n",
    "            if bool0:\n",
    "                first = i\n",
    "                bool0 = False\n",
    "\n",
    "            else:\n",
    "                last = i\n",
    "                bool1 = True   \n",
    "    if bool1:\n",
    "        new_hull = np.append(hull[ : first + 1],hull[last + 1: ], axis = 0)\n",
    "        new_hull = np.insert(new_hull, first + 1, [point], axis = 0)\n",
    "\n",
    "    else:\n",
    "        new_hull = np.insert(hull, first+1, [point], axis = 0)\n",
    "\n",
    "    return new_hull\n",
    "\n",
    "def convex_hull(points):\n",
    "    \n",
    "    hull_0 = points[:3]\n",
    "    if np.linalg.det([hull_0[2] - hull_0[1], hull_0[0] - hull_0[1]]) < 0:\n",
    "        hull_0 = np.array([points[0], points[2], points[1]])\n",
    "    hull = hull_0\n",
    "\n",
    "    for point in points[3:]: \n",
    "        hull_0 = hull\n",
    "        hull = subroutine(hull_0, point)\n",
    "\n",
    "    return hull"
   ]
  },
  {
   "cell_type": "code",
   "execution_count": 10,
   "id": "4614af7d",
   "metadata": {},
   "outputs": [
    {
     "data": {
      "image/png": "[encoded data removed]",
      "text/plain": [
       "<Figure size 576x396 with 1 Axes>"
      ]
     },
     "metadata": {},
     "output_type": "display_data"
    }
   ],
   "source": [
    "H = convex_hull(coordinates)\n",
    "\n",
    "cx = [c[0] for c in coordinates]\n",
    "cy = [c[1] for c in coordinates]\n",
    "\n",
    "xs = np.hstack(([h[0] for h in H], [H[0][0]]))\n",
    "ys = np.hstack(([h[1] for h in H], [H[0][1]]))\n",
    "\n",
    "plt.plot(cx, cy, 'o')\n",
    "plt.plot(xs, ys)\n",
    "plt.xlabel('x axis')\n",
    "plt.ylabel('y axis')\n",
    "plt.title('Data set and Convex Hull');"
   ]
  }
 ],
 "metadata": {
  "kernelspec": {
   "display_name": "Python 3",
   "language": "python",
   "name": "python3"
  },
  "language_info": {
   "codemirror_mode": {
    "name": "ipython",
    "version": 3
   },
   "file_extension": ".py",
   "mimetype": "text/x-python",
   "name": "python",
   "nbconvert_exporter": "python",
   "pygments_lexer": "ipython3",
   "version": "3.8.8"
  }
 },
 "nbformat": 4,
 "nbformat_minor": 5
}
